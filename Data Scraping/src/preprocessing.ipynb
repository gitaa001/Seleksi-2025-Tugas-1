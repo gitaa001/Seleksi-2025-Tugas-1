{
 "cells": [
  {
   "cell_type": "markdown",
   "id": "971d2777",
   "metadata": {},
   "source": [
    "GENERATOR ID UNTUK ENTITAS YG SEKIRANYA BUTUH ID."
   ]
  },
  {
   "cell_type": "code",
   "execution_count": 21,
   "id": "53a5af2b",
   "metadata": {},
   "outputs": [
    {
     "name": "stdout",
     "output_type": "stream",
     "text": [
      "id_trainee berhasil ditambahkan ke trainee.json\n"
     ]
    }
   ],
   "source": [
    "# GENERATE ID UNTUK TRAINEE\n",
    "\n",
    "import json\n",
    "\n",
    "# Baca data dari trainee.json\n",
    "with open('../data/raw/trainee.json', 'r', encoding='utf-8') as f:\n",
    "    data = json.load(f)\n",
    "\n",
    "# Tambahkan id_trainee ke setiap trainee (mulai dari 1)\n",
    "for i, trainee in enumerate(data, start=1):\n",
    "    trainee['id_trainee'] = i\n",
    "\n",
    "# save\n",
    "with open('../data/cleaned/trainee.json', 'w', encoding='utf-8') as f:\n",
    "    json.dump(data, f, indent=4, ensure_ascii=False)\n",
    "\n",
    "print(\"id_trainee berhasil ditambahkan ke trainee.json\")"
   ]
  },
  {
   "cell_type": "code",
   "execution_count": null,
   "id": "0003168d",
   "metadata": {},
   "outputs": [],
   "source": [
    "# GENERATE ID UNTUK ALBUM: karena album hanya sedikit, maka diedit langsung di file album.json"
   ]
  },
  {
   "cell_type": "markdown",
   "id": "f723bf94",
   "metadata": {},
   "source": [
    "Akan ditambahkan evaluation_id untuk masing2 tipe evaluasi.\n",
    "individual: 1\n",
    "group_battle: 2\n",
    "position: 3\n",
    "concept: 4\n",
    "debut: 5"
   ]
  },
  {
   "cell_type": "code",
   "execution_count": 33,
   "id": "e7f05f8a",
   "metadata": {},
   "outputs": [
    {
     "name": "stdout",
     "output_type": "stream",
     "text": [
      "File berhasil disimpan di data/cleaned/\n"
     ]
    }
   ],
   "source": [
    "import json\n",
    "from pathlib import Path\n",
    "\n",
    "# Data evaluasi\n",
    "evaluation_list = [\n",
    "    {\"evaluation_id\": 1, \"evaluation_type\": \"individual\"},\n",
    "    {\"evaluation_id\": 2, \"evaluation_type\": \"group_battle\"},\n",
    "    {\"evaluation_id\": 3, \"evaluation_type\": \"position\"},\n",
    "    {\"evaluation_id\": 4, \"evaluation_type\": \"concept\"},\n",
    "    {\"evaluation_id\": 5, \"evaluation_type\": \"debut\"},\n",
    "]\n",
    "\n",
    "# Simpan ke file\n",
    "output_path = Path(\"../data/cleaned/evaluation.json\")\n",
    "with open(output_path, \"w\", encoding=\"utf-8\") as f:\n",
    "    json.dump(evaluation_list, f, indent=2, ensure_ascii=False)\n",
    "\n",
    "print(\"File berhasil disimpan di data/cleaned/\")\n"
   ]
  },
  {
   "cell_type": "code",
   "execution_count": 40,
   "id": "fddac068",
   "metadata": {},
   "outputs": [
    {
     "name": "stdout",
     "output_type": "stream",
     "text": [
      "Transformasi selesai. File disimpan di 'data/cleaned/'\n"
     ]
    }
   ],
   "source": [
    "# TRANSFORMASI DATA UNTUK INDIVIDUAL EVALUATION\n",
    "\n",
    "import json\n",
    "import pandas as pd\n",
    "from pathlib import Path\n",
    "\n",
    "# Path input/output\n",
    "input_path = Path(\"../data/raw/debut_evaluation.json\")\n",
    "output_eval = Path(\"../data/cleaned/debut_evaluation.json\")\n",
    "\n",
    "# Load data\n",
    "with open(input_path, \"r\", encoding=\"utf-8\") as f:\n",
    "    raw_data = json.load(f)\n",
    "\n",
    "df = pd.DataFrame(raw_data)\n",
    "\n",
    "# Buat evaluasi per song \n",
    "eval_df = (\n",
    "    df[[\"id_perform\", \"producer\", \"original_single\", \"trainee_position\", \"trainee_name\"]]\n",
    "    .drop_duplicates()\n",
    "    .reset_index(drop=True)\n",
    "    .copy()\n",
    ")\n",
    "\n",
    "# Tambah kolom evaluation_id\n",
    "eval_df[\"evaluation_id\"] = 5\n",
    "\n",
    "\n",
    "# Simpan ke file JSON\n",
    "eval_df[[\"evaluation_id\", \"id_perform\", \"producer\", \"original_single\", \"trainee_position\", \"trainee_name\"]].to_json(output_eval, orient=\"records\", indent=2, force_ascii=False)\n",
    "\n",
    "print(\"Transformasi selesai. File disimpan di 'data/cleaned/'\")\n",
    "\n"
   ]
  },
  {
   "cell_type": "code",
   "execution_count": null,
   "id": "21b6708c",
   "metadata": {},
   "outputs": [],
   "source": [
    "# TRANSFORMASI DATA UNTUK DEBUT EVALUATION\n",
    "\n",
    "import json\n",
    "import pandas as pd\n",
    "from pathlib import Path\n",
    "\n",
    "# Path input/output\n",
    "input_path = Path(\"../data/raw/individual_evaluation.json\")\n",
    "output_eval = Path(\"../data/cleaned/individual_evaluation.json\")\n",
    "\n",
    "# Load data\n",
    "with open(input_path, \"r\", encoding=\"utf-8\") as f:\n",
    "    raw_data = json.load(f)\n",
    "\n",
    "df = pd.DataFrame(raw_data)\n",
    "\n",
    "# Buat evaluasi per song \n",
    "eval_df = (\n",
    "    df[[\"company\", \"name\", \"grade\", \"song\"]]\n",
    "    .drop_duplicates()\n",
    "    .reset_index(drop=True)\n",
    "    .copy()\n",
    ")\n",
    "\n",
    "# Tambah kolom evaluation_id\n",
    "eval_df[\"evaluation_id\"] = 1\n",
    "\n",
    "\n",
    "# Simpan ke file JSON\n",
    "eval_df[[\"evaluation_id\", \"company\", \"name\", \"grade\", \"song\"]].to_json(output_eval, orient=\"records\", indent=2, force_ascii=False)\n",
    "\n",
    "print(\"Transformasi selesai. File disimpan di 'data/cleaned/'\")\n",
    "\n"
   ]
  },
  {
   "cell_type": "code",
   "execution_count": 27,
   "id": "7bf8c3b0",
   "metadata": {},
   "outputs": [
    {
     "name": "stdout",
     "output_type": "stream",
     "text": [
      "Transformasi selesai. File disimpan di 'data/cleaned/'\n"
     ]
    }
   ],
   "source": [
    "# TRANSFORMASI DATA UNTUK EVALUASI GROUP BATTLE\n",
    "\n",
    "import json\n",
    "import pandas as pd\n",
    "from pathlib import Path\n",
    "\n",
    "# Path input/output\n",
    "input_path = Path(\"../data/raw/group_battle_evaluation.json\")\n",
    "output_eval = Path(\"../data/cleaned/group_battle_evaluation.json\")\n",
    "output_perf = Path(\"../data/cleaned/group_battle_performance.json\")\n",
    "\n",
    "# Load data\n",
    "with open(input_path, \"r\", encoding=\"utf-8\") as f:\n",
    "    raw_data = json.load(f)\n",
    "\n",
    "df = pd.DataFrame(raw_data)\n",
    "\n",
    "# Buat evaluasi per song \n",
    "eval_df = (\n",
    "    df[[\"id_perform\", \"original_artist\", \"song\"]]\n",
    "    .drop_duplicates()\n",
    "    .reset_index(drop=True)\n",
    "    .copy()\n",
    ")\n",
    "\n",
    "# Tambah kolom evaluation_id tetap (karena ini untuk group_battle, nilainya 2)\n",
    "eval_df[\"evaluation_id\"] = 2\n",
    "\n",
    "# Buat tabel performance \n",
    "performance_df = df[[ \n",
    "    \"id_perform\", \"team_name\", \"trainee_name\", \"trainee_position\",\n",
    "    \"trainee_votes\", \"trainee_bonus\"\n",
    "]].copy()\n",
    "\n",
    "# Simpan ke file JSON\n",
    "eval_df[[\"evaluation_id\", \"id_perform\", \"original_artist\", \"song\"]].to_json(output_eval, orient=\"records\", indent=2, force_ascii=False)\n",
    "performance_df.to_json(output_perf, orient=\"records\", indent=2, force_ascii=False)\n",
    "\n",
    "print(\"Transformasi selesai. File disimpan di 'data/cleaned/'\")\n",
    "\n"
   ]
  },
  {
   "cell_type": "code",
   "execution_count": null,
   "id": "d03c96b7",
   "metadata": {},
   "outputs": [
    {
     "name": "stdout",
     "output_type": "stream",
     "text": [
      "Transformasi selesai. File disimpan di 'data/cleaned/'\n"
     ]
    }
   ],
   "source": [
    "# TRANSFORMASI DATA UNTUK POSITION EVALUATION\n",
    "\n",
    "# Path input/output\n",
    "input_path = Path(\"../data/raw/position_evaluation.json\")\n",
    "output_eval = Path(\"../data/cleaned/position_evaluation.json\")\n",
    "output_perf = Path(\"../data/cleaned/position_performance.json\")\n",
    "\n",
    "# Load data\n",
    "with open(input_path, \"r\", encoding=\"utf-8\") as f:\n",
    "    raw_data = json.load(f)\n",
    "\n",
    "df = pd.DataFrame(raw_data)\n",
    "\n",
    "# Buat evaluasi per song \n",
    "eval_df = (\n",
    "    df[[\"category\", \"id_perform\", \"original_artist\", \"song\"]]\n",
    "    .drop_duplicates()\n",
    "    .reset_index(drop=True)\n",
    "    .copy()\n",
    ")\n",
    "\n",
    "# Tambah kolom evaluation_id tetap \n",
    "eval_df[\"evaluation_id\"] = 3\n",
    "\n",
    "# Buat tabel performance \n",
    "performance_df = df[[ \n",
    "    \"id_perform\", \"trainee_name\", \"trainee_votes\", \"rank_in_team\", \"trainee_bonus\"\n",
    "]].copy()\n",
    "\n",
    "# Simpan ke file JSON\n",
    "eval_df[[\"evaluation_id\", \"category\", \"id_perform\", \"original_artist\", \"song\"]].to_json(output_eval, orient=\"records\", indent=2, force_ascii=False)\n",
    "performance_df.to_json(output_perf, orient=\"records\", indent=2, force_ascii=False)\n",
    "\n",
    "print(\"Transformasi selesai. File disimpan di 'data/cleaned/'\")"
   ]
  },
  {
   "cell_type": "code",
   "execution_count": 45,
   "id": "a7050c1e",
   "metadata": {},
   "outputs": [
    {
     "name": "stdout",
     "output_type": "stream",
     "text": [
      "Transformasi selesai. File disimpan di 'data/cleaned/'\n"
     ]
    }
   ],
   "source": [
    "# TRANSFORMASI DATA UNTUK CONCEPT EVALUATION\n",
    "\n",
    "# Path input/output\n",
    "input_path = Path(\"../data/raw/concept_evaluation.json\")\n",
    "output_eval = Path(\"../data/cleaned/concept_evaluation.json\")\n",
    "output_perf = Path(\"../data/cleaned/concept_performance.json\")\n",
    "\n",
    "# Load data\n",
    "with open(input_path, \"r\", encoding=\"utf-8\") as f:\n",
    "    raw_data = json.load(f)\n",
    "\n",
    "df = pd.DataFrame(raw_data)\n",
    "\n",
    "# Buat evaluasi per song \n",
    "eval_df = (\n",
    "    df[[\"id_perform\", \"concept\", \"producer\", \"original_single\", \"votes\"]]\n",
    "    .drop_duplicates()\n",
    "    .reset_index(drop=True)\n",
    "    .copy()\n",
    ")\n",
    "\n",
    "# Tambah kolom evaluation_id tetap \n",
    "eval_df[\"evaluation_id\"] = 4\n",
    "\n",
    "# Buat tabel performance \n",
    "performance_df = df[[ \"id_perform\", \"trainee_position\", \"trainee_name\", \"trainee_votes\", \"trainee_rank\", \"bonus\"]].copy()\n",
    "\n",
    "# Simpan ke file JSON\n",
    "eval_df[[\"id_perform\", \"concept\", \"producer\", \"original_single\", \"votes\"]].to_json(output_eval, orient=\"records\", indent=2, force_ascii=False)\n",
    "performance_df.to_json(output_perf, orient=\"records\", indent=2, force_ascii=False)\n",
    "\n",
    "print(\"Transformasi selesai. File disimpan di 'data/cleaned/'\")"
   ]
  },
  {
   "cell_type": "code",
   "execution_count": 48,
   "id": "012d4cc3",
   "metadata": {},
   "outputs": [
    {
     "name": "stdout",
     "output_type": "stream",
     "text": [
      "Berhasil membuat trainee_evaluation.json!\n"
     ]
    }
   ],
   "source": [
    "# BUAT RELASI M2M antara trainee dan evaluation\n",
    "\n",
    "import pandas as pd\n",
    "import json\n",
    "from pathlib import Path\n",
    "\n",
    "# Path ke folder cleaned\n",
    "base_path = Path(\"../data/cleaned\")\n",
    "\n",
    "# Baca performance dan evaluation files\n",
    "individual_eval = pd.read_json(base_path / \"individual_evaluation.json\")\n",
    "individual_joined = individual_eval[[\"name\", \"evaluation_id\"]]\n",
    "individual_joined = individual_joined.rename(columns={\"name\": \"trainee_name\"})\n",
    "\n",
    "# Baca performance dan evaluation files\n",
    "group_perf = pd.read_json(base_path / \"group_battle_performance.json\")\n",
    "group_eval = pd.read_json(base_path / \"group_battle_evaluation.json\")\n",
    "group_joined = group_perf.merge(group_eval, on=\"id_perform\")[[\"trainee_name\", \"evaluation_id\"]]\n",
    "\n",
    "# Repeat for other evaluations (kalau ada)\n",
    "position_perf = pd.read_json(base_path / \"position_performance.json\")\n",
    "position_eval = pd.read_json(base_path / \"position_evaluation.json\")\n",
    "position_joined = position_perf.merge(position_eval, on=\"id_perform\")[[\"trainee_name\", \"evaluation_id\"]]\n",
    "\n",
    "concept_perf = pd.read_json(base_path / \"concept_performance.json\")\n",
    "concept_eval = pd.read_json(base_path / \"concept_evaluation.json\")\n",
    "concept_joined = concept_perf.merge(concept_eval, on=\"id_perform\")[[\"trainee_name\", \"evaluation_id\"]]\n",
    "\n",
    "debut_eval = pd.read_json(base_path / \"debut_evaluation.json\")\n",
    "debut_joined = debut_eval[[\"trainee_name\", \"evaluation_id\"]]\n",
    "\n",
    "# Gabungkan semua trainee-evaluation pairs\n",
    "all_eval = pd.concat([\n",
    "    individual_joined,\n",
    "    group_joined,\n",
    "    position_joined,\n",
    "    concept_joined,\n",
    "    debut_joined\n",
    "], ignore_index=True)\n",
    "\n",
    "# Hapus duplikat jika trainee ikut lebih dari sekali dalam evaluasi yg sama\n",
    "all_eval = all_eval.drop_duplicates()\n",
    "\n",
    "# Simpan ke JSON\n",
    "output_path = base_path / \"trainee_evaluation.json\"\n",
    "all_eval.to_json(output_path, orient=\"records\", indent=2, force_ascii=False)\n",
    "\n",
    "print(\"Berhasil membuat trainee_evaluation.json!\")\n"
   ]
  },
  {
   "cell_type": "code",
   "execution_count": 44,
   "id": "eac3ee85",
   "metadata": {},
   "outputs": [
    {
     "name": "stdout",
     "output_type": "stream",
     "text": [
      "WARNING: Lagu '1000%' tidak ditemukan dalam singles.json!\n",
      "WARNING: Lagu '\"To Reach You\" (너에게 닿기를)' tidak ditemukan dalam singles.json!\n",
      "WARNING: Lagu 'I Am' tidak ditemukan dalam singles.json!\n",
      "WARNING: Lagu 'Rollin' Rollin'' tidak ditemukan dalam singles.json!\n",
      "WARNING: Lagu 'Rumor' tidak ditemukan dalam singles.json!\n",
      "WARNING: Lagu '\"See You Again\" (다시 만나)' tidak ditemukan dalam singles.json!\n",
      "WARNING: Lagu 'Suki ni Nacchau Darou? (반해버리잖아? / 好きになっちゃうだろう？)' tidak ditemukan dalam singles.json!\n",
      "WARNING: Lagu 'Suki ni Nacchau Darou? (반해버리잖아? / 好きになっちゃうだろう？)' tidak ditemukan dalam singles.json!\n",
      "WARNING: Lagu 'Suki ni Nacchau Darou? (반해버리잖아? / 好きになっちゃうだろう？)' tidak ditemukan dalam singles.json!\n",
      "WARNING: Lagu 'Suki ni Nacchau Darou? (반해버리잖아? / 好きになっちゃうだろう？)' tidak ditemukan dalam singles.json!\n",
      "WARNING: Lagu 'Suki ni Nacchau Darou? (반해버리잖아? / 好きになっちゃうだろう？)' tidak ditemukan dalam singles.json!\n",
      "WARNING: Lagu 'Suki ni Nacchau Darou? (반해버리잖아? / 好きになっちゃうだろう？)' tidak ditemukan dalam singles.json!\n",
      "WARNING: Lagu 'Suki ni Nacchau Darou? (반해버리잖아? / 好きになっちゃうだろう？)' tidak ditemukan dalam singles.json!\n",
      "WARNING: Lagu 'Suki ni Nacchau Darou? (반해버리잖아? / 好きになっちゃうだろう？)' tidak ditemukan dalam singles.json!\n",
      "WARNING: Lagu 'We Together (앞으로 잘 부탁해)' tidak ditemukan dalam singles.json!\n",
      "WARNING: Lagu 'We Together (앞으로 잘 부탁해)' tidak ditemukan dalam singles.json!\n",
      "WARNING: Lagu 'We Together (앞으로 잘 부탁해)' tidak ditemukan dalam singles.json!\n",
      "WARNING: Lagu 'We Together (앞으로 잘 부탁해)' tidak ditemukan dalam singles.json!\n",
      "WARNING: Lagu 'We Together (앞으로 잘 부탁해)' tidak ditemukan dalam singles.json!\n",
      "WARNING: Lagu 'We Together (앞으로 잘 부탁해)' tidak ditemukan dalam singles.json!\n",
      "WARNING: Lagu 'We Together (앞으로 잘 부탁해)' tidak ditemukan dalam singles.json!\n",
      "WARNING: Lagu 'We Together (앞으로 잘 부탁해)' tidak ditemukan dalam singles.json!\n",
      "WARNING: Lagu 'We Together (앞으로 잘 부탁해)' tidak ditemukan dalam singles.json!\n",
      "WARNING: Lagu 'We Together (앞으로 잘 부탁해)' tidak ditemukan dalam singles.json!\n",
      "✅ Transformasi selesai. File baru telah disimpan.\n"
     ]
    }
   ],
   "source": [
    "# GANTI original_single dengan id_single di concept_evaluation.json dan debut_evaluation.json\n",
    "\n",
    "# --- 1. BACA FILE JSON ---\n",
    "with open(\"../data/cleaned/concept_evaluation.json\", \"r\", encoding=\"utf-8\") as f:\n",
    "    concept_eval = json.load(f)\n",
    "\n",
    "with open(\"../data/cleaned/debut_evaluation.json\", \"r\", encoding=\"utf-8\") as f:\n",
    "    debut_eval = json.load(f)\n",
    "\n",
    "with open(\"../data/cleaned/singles.json\", \"r\", encoding=\"utf-8\") as f:\n",
    "    singles = json.load(f)\n",
    "\n",
    "# --- 2. BUAT MAPPING title ➝ id_single ---\n",
    "\n",
    "title_to_id = {song[\"title\"]: song[\"id_single\"] for song in singles}\n",
    "\n",
    "# --- 3. UBAH original_single ➝ id_single ---\n",
    "\n",
    "def replace_title_with_id(data_list):\n",
    "    for item in data_list:\n",
    "        title = item.get(\"original_single\")\n",
    "        id_single = title_to_id.get(title)\n",
    "        if id_single:\n",
    "            item[\"id_single\"] = id_single\n",
    "        else:\n",
    "            print(f\"WARNING: Lagu '{title}' tidak ditemukan dalam singles.json!\")\n",
    "            item[\"id_single\"] = None\n",
    "        del item[\"original_single\"]\n",
    "\n",
    "replace_title_with_id(concept_eval)\n",
    "replace_title_with_id(debut_eval)\n",
    "\n",
    "# --- 4. SIMPAN FILE HASIL ---\n",
    "\n",
    "with open(\"../data/cleaned/concept_evaluation.json\", \"w\") as f:\n",
    "    json.dump(concept_eval, f, indent=2)\n",
    "\n",
    "with open(\"../data/cleaned/debut_evaluation_fixed.json\", \"w\") as f:\n",
    "    json.dump(debut_eval, f, indent=2)\n",
    "\n",
    "print(\"✅ Transformasi selesai. File baru telah disimpan.\")\n"
   ]
  },
  {
   "cell_type": "code",
   "execution_count": 53,
   "id": "5dc4ef62",
   "metadata": {},
   "outputs": [
    {
     "name": "stdout",
     "output_type": "stream",
     "text": [
      "Semua file relasi sudah diganti trainee_name ➔ trainee_id.\n"
     ]
    }
   ],
   "source": [
    "# GANTI TRAINEE NAME SEBAGAI PK KE TRAINEE ID\n",
    "\n",
    "import json\n",
    "from pathlib import Path\n",
    "\n",
    "# --- 1. LOAD MAPPING trainee_name ➔ trainee_id ---\n",
    "with open(\"../data/cleaned/trainee.json\", \"r\", encoding=\"utf-8\") as f:\n",
    "    trainees = json.load(f)\n",
    "name_to_id = {t[\"name\"]: t[\"id_trainee\"] for t in trainees}\n",
    "\n",
    "# --- 2. List file relasi yang perlu diubah ---\n",
    "relasi_files = [\n",
    "    \"trainee_evaluation.json\",\n",
    "    \"individual_evaluation.json\",\n",
    "    \"group_battle_performance.json\",\n",
    "    \"position_performance.json\",\n",
    "    \"concept_performance.json\",\n",
    "    \"debut_evaluation.json\"\n",
    "]\n",
    "base_path = Path(\"../data/cleaned\")\n",
    "\n",
    "# --- 3. Proses ganti trainee_name ➔ trainee_id ---\n",
    "for fname in relasi_files:\n",
    "    fpath = base_path / fname\n",
    "    with open(fpath, \"r\", encoding=\"utf-8\") as f:\n",
    "        data = json.load(f)\n",
    "\n",
    "    for item in data:\n",
    "        # Ganti trainee_name jika ada\n",
    "        if \"trainee_name\" in item:\n",
    "            trainee_id = name_to_id.get(item[\"trainee_name\"])\n",
    "            item[\"trainee_id\"] = trainee_id if trainee_id is not None else None\n",
    "            del item[\"trainee_name\"]\n",
    "        # Ganti name jika ada\n",
    "        if \"name\" in item:\n",
    "            trainee_id = name_to_id.get(item[\"name\"])\n",
    "            item[\"trainee_id\"] = trainee_id if trainee_id is not None else None\n",
    "            del item[\"name\"]\n",
    "\n",
    "    # Simpan hasil\n",
    "    with open(fpath, \"w\", encoding=\"utf-8\") as f:\n",
    "        json.dump(data, f, indent=2, ensure_ascii=False)\n",
    "\n",
    "print(\"Semua file relasi sudah diganti trainee_name ➔ trainee_id.\")"
   ]
  },
  {
   "cell_type": "code",
   "execution_count": 54,
   "id": "12f030d3",
   "metadata": {},
   "outputs": [
    {
     "name": "stdout",
     "output_type": "stream",
     "text": [
      "✅ Semua file relasi sudah disimpan ke cleaned_nopk tanpa trainee_id.\n"
     ]
    }
   ],
   "source": [
    "# DELETE semua trainee_id yang tidak berelasi langsung dengan trainee.json\n",
    "\n",
    "import json\n",
    "from pathlib import Path\n",
    "\n",
    "# Buat folder baru untuk hasil\n",
    "output_dir = Path(\"../data/cleaned/no_traineeid\")\n",
    "output_dir.mkdir(parents=True, exist_ok=True)\n",
    "\n",
    "# List file relasi yang trainee_id-nya perlu dihapus\n",
    "relasi_files = [\n",
    "    \"individual_evaluation.json\",\n",
    "    \"group_battle_performance.json\",\n",
    "    \"position_performance.json\",\n",
    "    \"concept_performance.json\",\n",
    "    \"debut_evaluation.json\"\n",
    "]\n",
    "base_path = Path(\"../data/cleaned\")\n",
    "\n",
    "for fname in relasi_files:\n",
    "    fpath = base_path / fname\n",
    "    with open(fpath, \"r\", encoding=\"utf-8\") as f:\n",
    "        data = json.load(f)\n",
    "\n",
    "    # Hapus trainee_id jika ada\n",
    "    for item in data:\n",
    "        if \"trainee_id\" in item:\n",
    "            del item[\"trainee_id\"]\n",
    "\n",
    "    # Simpan ke folder baru\n",
    "    outpath = output_dir / fname\n",
    "    with open(outpath, \"w\", encoding=\"utf-8\") as f:\n",
    "        json.dump(data, f, indent=2, ensure_ascii=False)\n",
    "\n",
    "print(\"✅ Semua file relasi sudah disimpan ke cleaned_nopk tanpa trainee_id.\")"
   ]
  }
 ],
 "metadata": {
  "kernelspec": {
   "display_name": "Python 3",
   "language": "python",
   "name": "python3"
  },
  "language_info": {
   "codemirror_mode": {
    "name": "ipython",
    "version": 3
   },
   "file_extension": ".py",
   "mimetype": "text/x-python",
   "name": "python",
   "nbconvert_exporter": "python",
   "pygments_lexer": "ipython3",
   "version": "3.13.0"
  }
 },
 "nbformat": 4,
 "nbformat_minor": 5
}
