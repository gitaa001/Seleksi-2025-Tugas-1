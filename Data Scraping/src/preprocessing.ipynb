{
 "cells": [
  {
   "cell_type": "markdown",
   "id": "971d2777",
   "metadata": {},
   "source": [
    "GENERATOR ID UNTUK ENTITAS YG SEKIRANYA BUTUH ID."
   ]
  },
  {
   "cell_type": "code",
   "execution_count": 21,
   "id": "53a5af2b",
   "metadata": {},
   "outputs": [
    {
     "name": "stdout",
     "output_type": "stream",
     "text": [
      "id_trainee berhasil ditambahkan ke trainee.json\n"
     ]
    }
   ],
   "source": [
    "# GENERATE ID UNTUK TRAINEE\n",
    "\n",
    "import json\n",
    "\n",
    "# Baca data dari trainee.json\n",
    "with open('../data/raw/trainee.json', 'r', encoding='utf-8') as f:\n",
    "    data = json.load(f)\n",
    "\n",
    "# Tambahkan id_trainee ke setiap trainee (mulai dari 1)\n",
    "for i, trainee in enumerate(data, start=1):\n",
    "    trainee['id_trainee'] = i\n",
    "\n",
    "# save\n",
    "with open('../data/cleaned/trainee.json', 'w', encoding='utf-8') as f:\n",
    "    json.dump(data, f, indent=4, ensure_ascii=False)\n",
    "\n",
    "print(\"id_trainee berhasil ditambahkan ke trainee.json\")"
   ]
  },
  {
   "cell_type": "code",
   "execution_count": null,
   "id": "0003168d",
   "metadata": {},
   "outputs": [],
   "source": [
    "# GENERATE ID UNTUK ALBUM: karena album hanya sedikit, maka diedit langsung di file album.json"
   ]
  },
  {
   "cell_type": "markdown",
   "id": "f723bf94",
   "metadata": {},
   "source": [
    "Akan ditambahkan evaluation_id untuk masing2 tipe evaluasi.\n",
    "individual: 1\n",
    "group_battle: 2\n",
    "position: 3\n",
    "concept: 4\n",
    "debut: 5"
   ]
  },
  {
   "cell_type": "code",
   "execution_count": 33,
   "id": "e7f05f8a",
   "metadata": {},
   "outputs": [
    {
     "name": "stdout",
     "output_type": "stream",
     "text": [
      "File berhasil disimpan di data/cleaned/\n"
     ]
    }
   ],
   "source": [
    "import json\n",
    "from pathlib import Path\n",
    "\n",
    "# Data evaluasi\n",
    "evaluation_list = [\n",
    "    {\"evaluation_id\": 1, \"evaluation_type\": \"individual\"},\n",
    "    {\"evaluation_id\": 2, \"evaluation_type\": \"group_battle\"},\n",
    "    {\"evaluation_id\": 3, \"evaluation_type\": \"position\"},\n",
    "    {\"evaluation_id\": 4, \"evaluation_type\": \"concept\"},\n",
    "    {\"evaluation_id\": 5, \"evaluation_type\": \"debut\"},\n",
    "]\n",
    "\n",
    "# Simpan ke file\n",
    "output_path = Path(\"../data/cleaned/evaluation.json\")\n",
    "with open(output_path, \"w\", encoding=\"utf-8\") as f:\n",
    "    json.dump(evaluation_list, f, indent=2, ensure_ascii=False)\n",
    "\n",
    "print(\"File berhasil disimpan di data/cleaned/\")\n"
   ]
  },
  {
   "cell_type": "code",
   "execution_count": 40,
   "id": "fddac068",
   "metadata": {},
   "outputs": [
    {
     "name": "stdout",
     "output_type": "stream",
     "text": [
      "Transformasi selesai. File disimpan di 'data/cleaned/'\n"
     ]
    }
   ],
   "source": [
    "# TRANSFORMASI DATA UNTUK INDIVIDUAL EVALUATION\n",
    "\n",
    "import json\n",
    "import pandas as pd\n",
    "from pathlib import Path\n",
    "\n",
    "# Path input/output\n",
    "input_path = Path(\"../data/raw/debut_evaluation.json\")\n",
    "output_eval = Path(\"../data/cleaned/debut_evaluation.json\")\n",
    "\n",
    "# Load data\n",
    "with open(input_path, \"r\", encoding=\"utf-8\") as f:\n",
    "    raw_data = json.load(f)\n",
    "\n",
    "df = pd.DataFrame(raw_data)\n",
    "\n",
    "# Buat evaluasi per song \n",
    "eval_df = (\n",
    "    df[[\"id_perform\", \"producer\", \"original_single\", \"trainee_position\", \"trainee_name\"]]\n",
    "    .drop_duplicates()\n",
    "    .reset_index(drop=True)\n",
    "    .copy()\n",
    ")\n",
    "\n",
    "# Tambah kolom evaluation_id\n",
    "eval_df[\"evaluation_id\"] = 5\n",
    "\n",
    "\n",
    "# Simpan ke file JSON\n",
    "eval_df[[\"evaluation_id\", \"id_perform\", \"producer\", \"original_single\", \"trainee_position\", \"trainee_name\"]].to_json(output_eval, orient=\"records\", indent=2, force_ascii=False)\n",
    "\n",
    "print(\"Transformasi selesai. File disimpan di 'data/cleaned/'\")\n",
    "\n"
   ]
  },
  {
   "cell_type": "code",
   "execution_count": null,
   "id": "21b6708c",
   "metadata": {},
   "outputs": [],
   "source": [
    "# TRANSFORMASI DATA UNTUK DEBUT EVALUATION\n",
    "\n",
    "import json\n",
    "import pandas as pd\n",
    "from pathlib import Path\n",
    "\n",
    "# Path input/output\n",
    "input_path = Path(\"../data/raw/individual_evaluation.json\")\n",
    "output_eval = Path(\"../data/cleaned/individual_evaluation.json\")\n",
    "\n",
    "# Load data\n",
    "with open(input_path, \"r\", encoding=\"utf-8\") as f:\n",
    "    raw_data = json.load(f)\n",
    "\n",
    "df = pd.DataFrame(raw_data)\n",
    "\n",
    "# Buat evaluasi per song \n",
    "eval_df = (\n",
    "    df[[\"company\", \"name\", \"grade\", \"song\"]]\n",
    "    .drop_duplicates()\n",
    "    .reset_index(drop=True)\n",
    "    .copy()\n",
    ")\n",
    "\n",
    "# Tambah kolom evaluation_id\n",
    "eval_df[\"evaluation_id\"] = 1\n",
    "\n",
    "\n",
    "# Simpan ke file JSON\n",
    "eval_df[[\"evaluation_id\", \"company\", \"name\", \"grade\", \"song\"]].to_json(output_eval, orient=\"records\", indent=2, force_ascii=False)\n",
    "\n",
    "print(\"Transformasi selesai. File disimpan di 'data/cleaned/'\")\n",
    "\n"
   ]
  },
  {
   "cell_type": "code",
   "execution_count": null,
   "id": "7bf8c3b0",
   "metadata": {},
   "outputs": [
    {
     "name": "stdout",
     "output_type": "stream",
     "text": [
      "Transformasi selesai. File disimpan di 'data/cleaned/'\n"
     ]
    }
   ],
   "source": [
    "# TRANSFORMASI DATA UNTUK GROUP BATTLE EVALUATION\n",
    "\n",
    "import json\n",
    "import pandas as pd\n",
    "from pathlib import Path\n",
    "\n",
    "# Path input/output\n",
    "input_path = Path(\"../data/raw/group_battle_evaluation.json\")\n",
    "output_eval = Path(\"../data/cleaned/group_battle_evaluation.json\")\n",
    "output_perf = Path(\"../data/cleaned/group_battle_performance.json\")\n",
    "\n",
    "# Load data\n",
    "with open(input_path, \"r\", encoding=\"utf-8\") as f:\n",
    "    raw_data = json.load(f)\n",
    "\n",
    "df = pd.DataFrame(raw_data)\n",
    "\n",
    "# Buat evaluasi per song \n",
    "eval_df = (\n",
    "    df[[\"id_perform\", \"original_artist\", \"song\"]]\n",
    "    .drop_duplicates()\n",
    "    .reset_index(drop=True)\n",
    "    .copy()\n",
    ")\n",
    "\n",
    "# Tambah kolom evaluation_id tetap (karena ini untuk group_battle, nilainya 2)\n",
    "eval_df[\"evaluation_id\"] = 2\n",
    "\n",
    "# Buat tabel performance \n",
    "performance_df = df[[ \n",
    "    \"id_perform\", \"team_name\", \"trainee_name\", \"trainee_position\",\n",
    "    \"trainee_votes\", \"trainee_bonus\"\n",
    "]].copy()\n",
    "\n",
    "# Simpan ke file JSON\n",
    "eval_df[[\"evaluation_id\", \"id_perform\", \"original_artist\", \"song\"]].to_json(output_eval, orient=\"records\", indent=2, force_ascii=False)\n",
    "performance_df.to_json(output_perf, orient=\"records\", indent=2, force_ascii=False)\n",
    "\n",
    "print(\"Transformasi selesai. File disimpan di 'data/cleaned/'\")\n",
    "\n"
   ]
  },
  {
   "cell_type": "code",
   "execution_count": 28,
   "id": "d03c96b7",
   "metadata": {},
   "outputs": [
    {
     "name": "stdout",
     "output_type": "stream",
     "text": [
      "Transformasi selesai. File disimpan di 'data/cleaned/'\n"
     ]
    }
   ],
   "source": [
    "# TRANSFORMASI DATA UNTUK POSITION EVALUATION\n",
    "\n",
    "# Path input/output\n",
    "input_path = Path(\"../data/raw/position_evaluation.json\")\n",
    "output_eval = Path(\"../data/cleaned/position_evaluation.json\")\n",
    "output_perf = Path(\"../data/cleaned/position_performance.json\")\n",
    "\n",
    "# Load data\n",
    "with open(input_path, \"r\", encoding=\"utf-8\") as f:\n",
    "    raw_data = json.load(f)\n",
    "\n",
    "df = pd.DataFrame(raw_data)\n",
    "\n",
    "# Buat evaluasi per song \n",
    "eval_df = (\n",
    "    df[[\"category\", \"id_perform\", \"original_artist\", \"song\"]]\n",
    "    .drop_duplicates()\n",
    "    .reset_index(drop=True)\n",
    "    .copy()\n",
    ")\n",
    "\n",
    "# Tambah kolom evaluation_id tetap \n",
    "eval_df[\"evaluation_id\"] = 3\n",
    "\n",
    "# Buat tabel performance \n",
    "performance_df = df[[ \n",
    "    \"id_perform\", \"trainee_name\", \"trainee_votes\", \"rank_in_team\", \"trainee_bonus\"\n",
    "]].copy()\n",
    "\n",
    "# Simpan ke file JSON\n",
    "eval_df[[\"evaluation_id\", \"category\", \"id_perform\", \"original_artist\", \"song\"]].to_json(output_eval, orient=\"records\", indent=2, force_ascii=False)\n",
    "performance_df.to_json(output_perf, orient=\"records\", indent=2, force_ascii=False)\n",
    "\n",
    "print(\"Transformasi selesai. File disimpan di 'data/cleaned/'\")"
   ]
  },
  {
   "cell_type": "code",
   "execution_count": 45,
   "id": "a7050c1e",
   "metadata": {},
   "outputs": [
    {
     "name": "stdout",
     "output_type": "stream",
     "text": [
      "Transformasi selesai. File disimpan di 'data/cleaned/'\n"
     ]
    }
   ],
   "source": [
    "# TRANSFORMASI DATA UNTUK CONCEPT EVALUATION\n",
    "\n",
    "# Path input/output\n",
    "input_path = Path(\"../data/raw/concept_evaluation.json\")\n",
    "output_eval = Path(\"../data/cleaned/concept_evaluation.json\")\n",
    "output_perf = Path(\"../data/cleaned/concept_performance.json\")\n",
    "\n",
    "# Load data\n",
    "with open(input_path, \"r\", encoding=\"utf-8\") as f:\n",
    "    raw_data = json.load(f)\n",
    "\n",
    "df = pd.DataFrame(raw_data)\n",
    "\n",
    "# Buat evaluasi per song \n",
    "eval_df = (\n",
    "    df[[\"id_perform\", \"concept\", \"producer\", \"original_single\", \"votes\"]]\n",
    "    .drop_duplicates()\n",
    "    .reset_index(drop=True)\n",
    "    .copy()\n",
    ")\n",
    "\n",
    "# Tambah kolom evaluation_id tetap \n",
    "eval_df[\"evaluation_id\"] = 4\n",
    "\n",
    "# Buat tabel performance \n",
    "performance_df = df[[ \"id_perform\", \"trainee_position\", \"trainee_name\", \"trainee_votes\", \"trainee_rank\", \"bonus\"]].copy()\n",
    "\n",
    "# Simpan ke file JSON\n",
    "eval_df[[\"id_perform\", \"concept\", \"producer\", \"original_single\", \"votes\"]].to_json(output_eval, orient=\"records\", indent=2, force_ascii=False)\n",
    "performance_df.to_json(output_perf, orient=\"records\", indent=2, force_ascii=False)\n",
    "\n",
    "print(\"Transformasi selesai. File disimpan di 'data/cleaned/'\")"
   ]
  },
  {
   "cell_type": "code",
   "execution_count": 48,
   "id": "012d4cc3",
   "metadata": {},
   "outputs": [
    {
     "name": "stdout",
     "output_type": "stream",
     "text": [
      "Berhasil membuat trainee_evaluation.json!\n"
     ]
    }
   ],
   "source": [
    "# BUAT RELASI M2M antara trainee dan evaluation\n",
    "\n",
    "import pandas as pd\n",
    "import json\n",
    "from pathlib import Path\n",
    "\n",
    "# Path ke folder cleaned\n",
    "base_path = Path(\"../data/cleaned\")\n",
    "\n",
    "# Baca performance dan evaluation files\n",
    "individual_eval = pd.read_json(base_path / \"individual_evaluation.json\")\n",
    "individual_joined = individual_eval[[\"name\", \"evaluation_id\"]]\n",
    "individual_joined = individual_joined.rename(columns={\"name\": \"trainee_name\"})\n",
    "\n",
    "# Baca performance dan evaluation files\n",
    "group_perf = pd.read_json(base_path / \"group_battle_performance.json\")\n",
    "group_eval = pd.read_json(base_path / \"group_battle_evaluation.json\")\n",
    "group_joined = group_perf.merge(group_eval, on=\"id_perform\")[[\"trainee_name\", \"evaluation_id\"]]\n",
    "\n",
    "# Repeat for other evaluations (kalau ada)\n",
    "position_perf = pd.read_json(base_path / \"position_performance.json\")\n",
    "position_eval = pd.read_json(base_path / \"position_evaluation.json\")\n",
    "position_joined = position_perf.merge(position_eval, on=\"id_perform\")[[\"trainee_name\", \"evaluation_id\"]]\n",
    "\n",
    "concept_perf = pd.read_json(base_path / \"concept_performance.json\")\n",
    "concept_eval = pd.read_json(base_path / \"concept_evaluation.json\")\n",
    "concept_joined = concept_perf.merge(concept_eval, on=\"id_perform\")[[\"trainee_name\", \"evaluation_id\"]]\n",
    "\n",
    "debut_eval = pd.read_json(base_path / \"debut_evaluation.json\")\n",
    "debut_joined = debut_eval[[\"trainee_name\", \"evaluation_id\"]]\n",
    "\n",
    "# Gabungkan semua trainee-evaluation pairs\n",
    "all_eval = pd.concat([\n",
    "    individual_joined,\n",
    "    group_joined,\n",
    "    position_joined,\n",
    "    concept_joined,\n",
    "    debut_joined\n",
    "], ignore_index=True)\n",
    "\n",
    "# Hapus duplikat jika trainee ikut lebih dari sekali dalam evaluasi yg sama\n",
    "all_eval = all_eval.drop_duplicates()\n",
    "\n",
    "# Simpan ke JSON\n",
    "output_path = base_path / \"trainee_evaluation.json\"\n",
    "all_eval.to_json(output_path, orient=\"records\", indent=2, force_ascii=False)\n",
    "\n",
    "print(\"Berhasil membuat trainee_evaluation.json!\")\n"
   ]
  },
  {
   "cell_type": "code",
   "execution_count": 44,
   "id": "eac3ee85",
   "metadata": {},
   "outputs": [
    {
     "name": "stdout",
     "output_type": "stream",
     "text": [
      "WARNING: Lagu '1000%' tidak ditemukan dalam singles.json!\n",
      "WARNING: Lagu '\"To Reach You\" (너에게 닿기를)' tidak ditemukan dalam singles.json!\n",
      "WARNING: Lagu 'I Am' tidak ditemukan dalam singles.json!\n",
      "WARNING: Lagu 'Rollin' Rollin'' tidak ditemukan dalam singles.json!\n",
      "WARNING: Lagu 'Rumor' tidak ditemukan dalam singles.json!\n",
      "WARNING: Lagu '\"See You Again\" (다시 만나)' tidak ditemukan dalam singles.json!\n",
      "WARNING: Lagu 'Suki ni Nacchau Darou? (반해버리잖아? / 好きになっちゃうだろう？)' tidak ditemukan dalam singles.json!\n",
      "WARNING: Lagu 'Suki ni Nacchau Darou? (반해버리잖아? / 好きになっちゃうだろう？)' tidak ditemukan dalam singles.json!\n",
      "WARNING: Lagu 'Suki ni Nacchau Darou? (반해버리잖아? / 好きになっちゃうだろう？)' tidak ditemukan dalam singles.json!\n",
      "WARNING: Lagu 'Suki ni Nacchau Darou? (반해버리잖아? / 好きになっちゃうだろう？)' tidak ditemukan dalam singles.json!\n",
      "WARNING: Lagu 'Suki ni Nacchau Darou? (반해버리잖아? / 好きになっちゃうだろう？)' tidak ditemukan dalam singles.json!\n",
      "WARNING: Lagu 'Suki ni Nacchau Darou? (반해버리잖아? / 好きになっちゃうだろう？)' tidak ditemukan dalam singles.json!\n",
      "WARNING: Lagu 'Suki ni Nacchau Darou? (반해버리잖아? / 好きになっちゃうだろう？)' tidak ditemukan dalam singles.json!\n",
      "WARNING: Lagu 'Suki ni Nacchau Darou? (반해버리잖아? / 好きになっちゃうだろう？)' tidak ditemukan dalam singles.json!\n",
      "WARNING: Lagu 'We Together (앞으로 잘 부탁해)' tidak ditemukan dalam singles.json!\n",
      "WARNING: Lagu 'We Together (앞으로 잘 부탁해)' tidak ditemukan dalam singles.json!\n",
      "WARNING: Lagu 'We Together (앞으로 잘 부탁해)' tidak ditemukan dalam singles.json!\n",
      "WARNING: Lagu 'We Together (앞으로 잘 부탁해)' tidak ditemukan dalam singles.json!\n",
      "WARNING: Lagu 'We Together (앞으로 잘 부탁해)' tidak ditemukan dalam singles.json!\n",
      "WARNING: Lagu 'We Together (앞으로 잘 부탁해)' tidak ditemukan dalam singles.json!\n",
      "WARNING: Lagu 'We Together (앞으로 잘 부탁해)' tidak ditemukan dalam singles.json!\n",
      "WARNING: Lagu 'We Together (앞으로 잘 부탁해)' tidak ditemukan dalam singles.json!\n",
      "WARNING: Lagu 'We Together (앞으로 잘 부탁해)' tidak ditemukan dalam singles.json!\n",
      "WARNING: Lagu 'We Together (앞으로 잘 부탁해)' tidak ditemukan dalam singles.json!\n",
      "✅ Transformasi selesai. File baru telah disimpan.\n"
     ]
    }
   ],
   "source": [
    "# GANTI original_single dengan id_single di concept_evaluation.json dan debut_evaluation.json\n",
    "\n",
    "# --- 1. BACA FILE JSON ---\n",
    "with open(\"../data/cleaned/concept_evaluation.json\", \"r\", encoding=\"utf-8\") as f:\n",
    "    concept_eval = json.load(f)\n",
    "\n",
    "with open(\"../data/cleaned/debut_evaluation.json\", \"r\", encoding=\"utf-8\") as f:\n",
    "    debut_eval = json.load(f)\n",
    "\n",
    "with open(\"../data/cleaned/singles.json\", \"r\", encoding=\"utf-8\") as f:\n",
    "    singles = json.load(f)\n",
    "\n",
    "# --- 2. BUAT MAPPING title ➝ id_single ---\n",
    "\n",
    "title_to_id = {song[\"title\"]: song[\"id_single\"] for song in singles}\n",
    "\n",
    "# --- 3. UBAH original_single ➝ id_single ---\n",
    "\n",
    "def replace_title_with_id(data_list):\n",
    "    for item in data_list:\n",
    "        title = item.get(\"original_single\")\n",
    "        id_single = title_to_id.get(title)\n",
    "        if id_single:\n",
    "            item[\"id_single\"] = id_single\n",
    "        else:\n",
    "            print(f\"WARNING: Lagu '{title}' tidak ditemukan dalam singles.json!\")\n",
    "            item[\"id_single\"] = None\n",
    "        del item[\"original_single\"]\n",
    "\n",
    "replace_title_with_id(concept_eval)\n",
    "replace_title_with_id(debut_eval)\n",
    "\n",
    "# --- 4. SIMPAN FILE HASIL ---\n",
    "\n",
    "with open(\"../data/cleaned/concept_evaluation.json\", \"w\") as f:\n",
    "    json.dump(concept_eval, f, indent=2)\n",
    "\n",
    "with open(\"../data/cleaned/debut_evaluation_fixed.json\", \"w\") as f:\n",
    "    json.dump(debut_eval, f, indent=2)\n",
    "\n",
    "print(\"✅ Transformasi selesai. File baru telah disimpan.\")\n"
   ]
  },
  {
   "cell_type": "code",
   "execution_count": 53,
   "id": "5dc4ef62",
   "metadata": {},
   "outputs": [
    {
     "name": "stdout",
     "output_type": "stream",
     "text": [
      "Semua file relasi sudah diganti trainee_name ➔ trainee_id.\n"
     ]
    }
   ],
   "source": [
    "# GANTI TRAINEE NAME SEBAGAI PK KE TRAINEE ID\n",
    "\n",
    "import json\n",
    "from pathlib import Path\n",
    "\n",
    "# --- 1. LOAD MAPPING trainee_name ➔ trainee_id ---\n",
    "with open(\"../data/cleaned/trainee.json\", \"r\", encoding=\"utf-8\") as f:\n",
    "    trainees = json.load(f)\n",
    "name_to_id = {t[\"name\"]: t[\"id_trainee\"] for t in trainees}\n",
    "\n",
    "# --- 2. List file relasi yang perlu diubah ---\n",
    "relasi_files = [\n",
    "    \"trainee_evaluation.json\",\n",
    "    \"individual_evaluation.json\",\n",
    "    \"group_battle_performance.json\",\n",
    "    \"position_performance.json\",\n",
    "    \"concept_performance.json\",\n",
    "    \"debut_evaluation.json\"\n",
    "]\n",
    "base_path = Path(\"../data/cleaned\")\n",
    "\n",
    "# --- 3. Proses ganti trainee_name ➔ trainee_id ---\n",
    "for fname in relasi_files:\n",
    "    fpath = base_path / fname\n",
    "    with open(fpath, \"r\", encoding=\"utf-8\") as f:\n",
    "        data = json.load(f)\n",
    "\n",
    "    for item in data:\n",
    "        # Ganti trainee_name jika ada\n",
    "        if \"trainee_name\" in item:\n",
    "            trainee_id = name_to_id.get(item[\"trainee_name\"])\n",
    "            item[\"trainee_id\"] = trainee_id if trainee_id is not None else None\n",
    "            del item[\"trainee_name\"]\n",
    "        # Ganti name jika ada\n",
    "        if \"name\" in item:\n",
    "            trainee_id = name_to_id.get(item[\"name\"])\n",
    "            item[\"trainee_id\"] = trainee_id if trainee_id is not None else None\n",
    "            del item[\"name\"]\n",
    "\n",
    "    # Simpan hasil\n",
    "    with open(fpath, \"w\", encoding=\"utf-8\") as f:\n",
    "        json.dump(data, f, indent=2, ensure_ascii=False)\n",
    "\n",
    "print(\"Semua file relasi sudah diganti trainee_name ➔ trainee_id.\")"
   ]
  },
  {
   "cell_type": "code",
   "execution_count": 54,
   "id": "12f030d3",
   "metadata": {},
   "outputs": [
    {
     "name": "stdout",
     "output_type": "stream",
     "text": [
      "✅ Semua file relasi sudah disimpan ke cleaned_nopk tanpa trainee_id.\n"
     ]
    }
   ],
   "source": [
    "# DELETE semua trainee_id yang tidak berelasi langsung dengan trainee.json\n",
    "\n",
    "import json\n",
    "from pathlib import Path\n",
    "\n",
    "# Buat folder baru untuk hasil\n",
    "output_dir = Path(\"../data/cleaned/no_traineeid\")\n",
    "output_dir.mkdir(parents=True, exist_ok=True)\n",
    "\n",
    "# List file relasi yang trainee_id-nya perlu dihapus\n",
    "relasi_files = [\n",
    "    \"individual_evaluation.json\",\n",
    "    \"group_battle_performance.json\",\n",
    "    \"position_performance.json\",\n",
    "    \"concept_performance.json\",\n",
    "    \"debut_evaluation.json\"\n",
    "]\n",
    "base_path = Path(\"../data/cleaned\")\n",
    "\n",
    "for fname in relasi_files:\n",
    "    fpath = base_path / fname\n",
    "    with open(fpath, \"r\", encoding=\"utf-8\") as f:\n",
    "        data = json.load(f)\n",
    "\n",
    "    # Hapus trainee_id jika ada\n",
    "    for item in data:\n",
    "        if \"trainee_id\" in item:\n",
    "            del item[\"trainee_id\"]\n",
    "\n",
    "    # Simpan ke folder baru\n",
    "    outpath = output_dir / fname\n",
    "    with open(outpath, \"w\", encoding=\"utf-8\") as f:\n",
    "        json.dump(data, f, indent=2, ensure_ascii=False)\n",
    "\n",
    "print(\"✅ Semua file relasi sudah disimpan ke cleaned_nopk tanpa trainee_id.\")"
   ]
  },
  {
   "cell_type": "code",
   "execution_count": 90,
   "id": "0c45eb88",
   "metadata": {},
   "outputs": [
    {
     "name": "stdout",
     "output_type": "stream",
     "text": [
      "Semua nama trainee berhasil dimapping ke id_trainee.\n",
      "Cleaning selesai dan id_trainee sudah diganti di 'data/cleaned/trainee_episode_rank.json'\n"
     ]
    }
   ],
   "source": [
    "# CLEANING DATA RANK TRAINEE\n",
    "\n",
    "import json\n",
    "import re\n",
    "import pandas as pd\n",
    "\n",
    "# Load data episode rank\n",
    "with open(\"../data/raw/trainee_episode_rank.json\", \"r\", encoding=\"utf-8\") as f:\n",
    "    data = json.load(f)\n",
    "df = pd.DataFrame(data)\n",
    "\n",
    "# Cleaning nama: hanya alfabet dan spasi\n",
    "df[\"name\"] = df[\"name\"].apply(lambda x: re.sub(r'[^A-Za-z ]', '', x).strip().lower())\n",
    "\n",
    "# List episode yang harus ada\n",
    "all_episodes = [1,2,3,4,5,6,7,8,10,11,12]\n",
    "\n",
    "# Tambah episode yang kurang untuk setiap trainee\n",
    "result = []\n",
    "for name in df[\"name\"].unique():\n",
    "    trainee_df = df[df[\"name\"] == name].sort_values(\"episode\")\n",
    "    episode_ranks = {row[\"episode\"]: row[\"rank\"] for _, row in trainee_df.iterrows()}\n",
    "    for ep in all_episodes:\n",
    "        if ep not in episode_ranks:\n",
    "            prev_ep = max([e for e in episode_ranks.keys() if e < ep], default=None)\n",
    "            if prev_ep is not None:\n",
    "                episode_ranks[ep] = episode_ranks[prev_ep]\n",
    "    for ep in all_episodes:\n",
    "        result.append({\n",
    "            \"name\": name,\n",
    "            \"episode\": ep,\n",
    "            \"rank\": str(episode_ranks.get(ep, 0))\n",
    "        })\n",
    "\n",
    "# Load mapping name ➔ id_trainee (normalisasi nama juga)\n",
    "with open(\"../data/cleaned/trainee.json\", \"r\", encoding=\"utf-8\") as f:\n",
    "    trainees = json.load(f)\n",
    "name_to_id = {t[\"name\"].strip().lower(): t[\"id_trainee\"] for t in trainees}\n",
    "\n",
    "# Mapping name ke id_trainee, lalu hapus field name\n",
    "unmapped_names = set()\n",
    "for item in result:\n",
    "    norm_name = item[\"name\"].strip().lower()\n",
    "    trainee_id = name_to_id.get(norm_name, None)\n",
    "    # Coba urutan nama dibalik jika tidak ketemu\n",
    "    if trainee_id is None and \" \" in norm_name:\n",
    "        reversed_name = \" \".join(norm_name.split()[::-1])\n",
    "        trainee_id = name_to_id.get(reversed_name, None)\n",
    "    if trainee_id is None:\n",
    "        unmapped_names.add(norm_name)\n",
    "    item[\"id_trainee\"] = trainee_id\n",
    "    del item[\"name\"]\n",
    "\n",
    "if unmapped_names:\n",
    "    print(\"Nama trainee yang gagal mapping ke id_trainee:\")\n",
    "    for name in sorted(unmapped_names):\n",
    "        print(\"-\", name)\n",
    "else:\n",
    "    print(\"Semua nama trainee berhasil dimapping ke id_trainee.\")\n",
    "\n",
    "# Simpan hasil cleaning\n",
    "with open(\"../data/cleaned/trainee_episode_rank.json\", \"w\", encoding=\"utf-8\") as f:\n",
    "    json.dump(result, f, indent=2, ensure_ascii=False)\n",
    "\n",
    "print(\"Cleaning selesai dan id_trainee sudah diganti di 'data/cleaned/trainee_episode_rank.json'\")"
   ]
  },
  {
   "cell_type": "code",
   "execution_count": 67,
   "id": "f42ffd0e",
   "metadata": {},
   "outputs": [
    {
     "name": "stdout",
     "output_type": "stream",
     "text": [
      "Judul lagu: Rollin' Rollin' (Love Potion)\n",
      "    id_perform trainee_position  trainee_votes  trainee_rank   bonus\n",
      "18           4      Sub vocal 3             53             9  200000\n"
     ]
    }
   ],
   "source": [
    "# ngecek\n",
    "\n",
    "# 1.cari trainee_id Jang Wonyoung dari trainee.json\n",
    "df_trainee = pd.read_json(\"../data/cleaned/trainee.json\")\n",
    "id_wonyoung = df_trainee[df_trainee[\"name\"] == \"Jang Wonyoung\"][\"id_trainee\"].iloc[0]\n",
    "\n",
    "# 2. mapping\n",
    "df_map = pd.read_json(\"../data/cleaned/concept_performance.json\")\n",
    "row = df_map[df_map[\"trainee_id\"] == id_wonyoung].iloc[0]\n",
    "id_perform = row[\"id_perform\"]\n",
    "trainee_position = row[\"trainee_position\"]\n",
    "\n",
    "# 3. Cari id_single dari concept_evaluation.json\n",
    "df_eval = pd.read_json(\"../data/cleaned/concept_evaluation.json\")\n",
    "id_single = df_eval[df_eval[\"id_perform\"] == id_perform][\"id_single\"].iloc[0]\n",
    "\n",
    "# 4. Mapping id_single ke judul lagu asli dari singles.json\n",
    "df_singles = pd.read_json(\"../data/cleaned/singles.json\")\n",
    "judul_lagu = df_singles[df_singles[\"id_single\"] == id_single][\"title\"].iloc[0]\n",
    "\n",
    "\n",
    "df_noid = pd.read_json(\"../data/cleaned/no_traineeid/concept_performance.json\")\n",
    "\n",
    "result = df_noid[\n",
    "    (df_noid[\"id_perform\"] == id_perform) &\n",
    "    (df_noid[\"trainee_position\"] == trainee_position)\n",
    "]\n",
    "\n",
    "print(\"Judul lagu:\", judul_lagu)\n",
    "print(result)\n",
    "\n",
    "# result harusnya rollin rollin - sub vocal"
   ]
  },
  {
   "cell_type": "code",
   "execution_count": 94,
   "id": "84b2766a",
   "metadata": {},
   "outputs": [
    {
     "name": "stdout",
     "output_type": "stream",
     "text": [
      "Jang Wonyoung mendapat rank 1 di episode 8\n",
      "Rating episode tersebut:\n",
      "{'episode': '8', 'broadcast_date': 'August 3, 2018', 'nationwide_rate': 2.397, 'seoul_rate': 2.399}\n",
      "Jang Wonyoung mendapat rank 1 di episode 12\n",
      "Rating episode tersebut:\n",
      "{'episode': '12', 'broadcast_date': 'August 31, 2018', 'nationwide_rate': 3.085, 'seoul_rate': 3.299}\n"
     ]
    }
   ],
   "source": [
    "# ngecek 2\n",
    "\n",
    "# 1. Cari id_trainee Jang Wonyoung\n",
    "with open(\"../data/cleaned/trainee.json\", \"r\", encoding=\"utf-8\") as f:\n",
    "    trainees = json.load(f)\n",
    "id_wonyoung = None\n",
    "for t in trainees:\n",
    "    if t[\"name\"].strip().lower() == \"jang wonyoung\":\n",
    "        id_wonyoung = t[\"id_trainee\"]\n",
    "        break\n",
    "\n",
    "# 2. Ambil semua episode dan rank Jang Wonyoung\n",
    "with open(\"../data/cleaned/trainee_episode_rank.json\", \"r\", encoding=\"utf-8\") as f:\n",
    "    ranks = json.load(f)\n",
    "wonyoung_ranks = [r for r in ranks if r[\"id_trainee\"] == id_wonyoung and r[\"rank\"] != \"eliminated\"]\n",
    "\n",
    "# 3. Cari semua episode dengan rank 1\n",
    "rank1_episodes = [r for r in wonyoung_ranks if r[\"rank\"] == \"1\"]\n",
    "\n",
    "# 4. Ambil rating setiap episode tersebut\n",
    "with open(\"../data/cleaned/episode.json\", \"r\", encoding=\"utf-8\") as f:\n",
    "    episodes = json.load(f)\n",
    "for r in rank1_episodes:\n",
    "    ep_info = next((ep for ep in episodes if int(ep[\"episode\"]) == r[\"episode\"]), None)\n",
    "    print(f\"Jang Wonyoung mendapat rank 1 di episode {r['episode']}\")\n",
    "    print(\"Rating episode tersebut:\")\n",
    "    print(ep_info)"
   ]
  },
  {
   "cell_type": "code",
   "execution_count": 96,
   "id": "5b187732",
   "metadata": {},
   "outputs": [
    {
     "name": "stdout",
     "output_type": "stream",
     "text": [
      "Cleaning selesai. File disimpan di group_battle_performance_cleaned.json\n"
     ]
    }
   ],
   "source": [
    "import json\n",
    "import re\n",
    "from pathlib import Path\n",
    "\n",
    "# Path input/output\n",
    "input_path = Path(\"../data/cleaned/fix/group_battle_performance.json\")\n",
    "output_path = Path(\"../data/cleaned/group_battle_performance_cleaned.json\")\n",
    "\n",
    "# Load data\n",
    "with open(input_path, \"r\", encoding=\"utf-8\") as f:\n",
    "    data = json.load(f)\n",
    "\n",
    "# Cleaning team_name: hanya alfabet dan spasi\n",
    "for item in data:\n",
    "    if \"team_name\" in item:\n",
    "        clean_name = re.sub(r'[^A-Za-z ]', '', item[\"team_name\"]).strip()\n",
    "        item[\"team_name\"] = clean_name\n",
    "\n",
    "# Simpan hasil cleaning\n",
    "with open(output_path, \"w\", encoding=\"utf-8\") as f:\n",
    "    json.dump(data, f, indent=2, ensure_ascii=False)\n",
    "\n",
    "print(\"Cleaning selesai. File disimpan di group_battle_performance_cleaned.json\")"
   ]
  },
  {
   "cell_type": "code",
   "execution_count": 97,
   "id": "556730a9",
   "metadata": {},
   "outputs": [
    {
     "name": "stdout",
     "output_type": "stream",
     "text": [
      "Jumlah row di group_battle_performance.json: 92\n"
     ]
    }
   ],
   "source": [
    "#berikan count row dari /fix/group_battle_performance.json\n",
    "import json\n",
    "\n",
    "from pathlib import Path\n",
    "# Path input/output\n",
    "input_path = Path(\"../data/cleaned/fix/group_battle_performance.json\")\n",
    "\n",
    "# Load data\n",
    "with open(input_path, \"r\", encoding=\"utf-8\") as f:\n",
    "    data = json.load(f)\n",
    "# Hitung jumlah row\n",
    "row_count = len(data)\n",
    "print(f\"Jumlah row di {input_path.name}: {row_count}\")"
   ]
  }
 ],
 "metadata": {
  "kernelspec": {
   "display_name": "Python 3",
   "language": "python",
   "name": "python3"
  },
  "language_info": {
   "codemirror_mode": {
    "name": "ipython",
    "version": 3
   },
   "file_extension": ".py",
   "mimetype": "text/x-python",
   "name": "python",
   "nbconvert_exporter": "python",
   "pygments_lexer": "ipython3",
   "version": "3.13.0"
  }
 },
 "nbformat": 4,
 "nbformat_minor": 5
}
